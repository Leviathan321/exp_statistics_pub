{
 "cells": [
  {
   "cell_type": "code",
   "execution_count": 4,
   "metadata": {},
   "outputs": [
    {
     "ename": "ModuleNotFoundError",
     "evalue": "No module named 'httpcore'",
     "output_type": "error",
     "traceback": [
      "\u001b[1;31m---------------------------------------------------------------------------\u001b[0m",
      "\u001b[1;31mModuleNotFoundError\u001b[0m                       Traceback (most recent call last)",
      "\u001b[1;32m<ipython-input-4-13c50d6e4f0c>\u001b[0m in \u001b[0;36m<module>\u001b[1;34m\u001b[0m\n\u001b[1;32m----> 1\u001b[1;33m \u001b[1;32mfrom\u001b[0m \u001b[0mhttpcore\u001b[0m\u001b[1;33m.\u001b[0m\u001b[0m_sync\u001b[0m\u001b[1;33m.\u001b[0m\u001b[0mbase\u001b[0m \u001b[1;32mimport\u001b[0m \u001b[0mempty\u001b[0m\u001b[1;33m\u001b[0m\u001b[1;33m\u001b[0m\u001b[0m\n\u001b[0m\u001b[0;32m      2\u001b[0m \u001b[1;32mfrom\u001b[0m \u001b[0mnltk\u001b[0m\u001b[1;33m.\u001b[0m\u001b[0mcorpus\u001b[0m \u001b[1;32mimport\u001b[0m \u001b[0mwordnet\u001b[0m \u001b[1;32mas\u001b[0m \u001b[0mwn\u001b[0m\u001b[1;33m\u001b[0m\u001b[1;33m\u001b[0m\u001b[0m\n\u001b[0;32m      3\u001b[0m \u001b[1;33m\u001b[0m\u001b[0m\n\u001b[0;32m      4\u001b[0m \u001b[1;32mfrom\u001b[0m \u001b[0mgoogletrans\u001b[0m \u001b[1;32mimport\u001b[0m \u001b[0mTranslator\u001b[0m\u001b[1;33m,\u001b[0m \u001b[0mconstants\u001b[0m\u001b[1;33m\u001b[0m\u001b[1;33m\u001b[0m\u001b[0m\n\u001b[0;32m      5\u001b[0m \u001b[1;32mfrom\u001b[0m \u001b[0mpprint\u001b[0m \u001b[1;32mimport\u001b[0m \u001b[0mpprint\u001b[0m\u001b[1;33m\u001b[0m\u001b[1;33m\u001b[0m\u001b[0m\n",
      "\u001b[1;31mModuleNotFoundError\u001b[0m: No module named 'httpcore'"
     ]
    }
   ],
   "source": [
    "from httpcore._sync.base import empty\n",
    "from nltk.corpus import wordnet as wn\n",
    "\n",
    "from googletrans import Translator, constants\n",
    "from pprint import pprint\n",
    "import matplotlib.pyplot as plt\n",
    "from csv import reader\n",
    "from spellchecker import SpellChecker\n",
    "\n",
    "spell = SpellChecker(language=\"de\")\n",
    "translator = Translator()\n",
    "print(translator.translate(\"word\"))\n",
    "# goal : categorize words into given categories\n",
    "#  \n",
    "\n",
    "# read csv file as a list of lists\n",
    "with open('Test_Ausgaben.csv', 'r') as read_obj:\n",
    "    # pass the file object to reader() to get the reader object\n",
    "    csv_reader = reader(read_obj)\n",
    "    # Pass reader object to list() to get a list of lists\n",
    "    payed = list(csv_reader)\n",
    "\n",
    "print(payed)\n",
    "\n",
    "\n",
    "def preprocess(word):\n",
    "    l = len(word)\n",
    "    if len(word) == 0:\n",
    "        return word\n",
    "    while(word[l-1] == \" \"):\n",
    "        word = word[:-1]\n",
    "        l  = l -1\n",
    "    word.replace(\" \",\"_\")\n",
    "    return word\n",
    "\n",
    "translation_payed = []\n",
    "payed = [(\"Apple\",90)]\n",
    "for item in payed:\n",
    "    # consider misspelled words\n",
    "    word = spell.correction(item[0])\n",
    "    #print(f'{item[0]} -> {word}')\n",
    "\n",
    "    translated = translator.translate(word, src=\"de\",dest=\"en\")\n",
    "    print(f'{translated.origin} -> {translated.text}')\n",
    "    \n",
    "    new_word = preprocess(translated.text)\n",
    "    print(f'preprocessed \\n{translated.text} -> {new_word}')\n",
    "    translation_payed.append((new_word,item[1]))\n",
    "\n",
    "print(translation_payed)\n",
    "\n",
    "categories = ['food', 'furniture', \n",
    "            'styling', 'office']\n",
    "\n",
    "examples = [\"mirror\",\"soap\",\"toilet\", \"apple\",\"pencil\",\"lipgloss\",\"carpet\",\"decoration\"]\n",
    "\n",
    "costs = []\n",
    "\n",
    "word = \"curtain\"\n",
    "roots = []\n",
    "\n",
    "distribution = [0,0,0,0]\n",
    "# level = 10\n",
    "\n",
    "syns = wn.synsets(word)\n",
    "\n",
    "syn = syns[0]\n",
    "\n",
    "# hy = syn.hyponyms()\n",
    "# print(hy)\n",
    "\n",
    "# print(\"level \" + str(0)  + \": \" + str(syn))\n",
    "# for i in range(10):\n",
    "#     syns = syn.hyponyms()\n",
    "#     if syns!=[]:\n",
    "#         syn = syns[0]\n",
    "#     print(\"level \" + str(i) + \": \" + str(syn))\n",
    "\n",
    "def iter_hyponym(syn,level, roots):\n",
    "    hyps = syn.hyponyms()\n",
    "    if hyps != []:\n",
    "        counter = 1\n",
    "        for hyp in hyps:\n",
    "            print(\"level \" + str((level,counter)) + \": \" + str(hyp))\n",
    "            counter = counter + 1\n",
    "            iter_hyponym(hyp,level + 1,roots)\n",
    "    else:\n",
    "        #add synsets without parents to cluster list \n",
    "        roots.append(syn)\n",
    "\n",
    "def sset(word):\n",
    "    set_ =  wn.synsets(word)\n",
    "    if set_!=[]:\n",
    "        print(\"in synset 1: \"+ str(set_))\n",
    "        return set_[0]\n",
    "    else:\n",
    "        print(\"in synset 2: \"+ str(set_))\n",
    "        return []\n",
    "\n",
    "## similarity\n",
    "\n",
    "uncategorized = []\n",
    "\n",
    "for (ex,amount) in translation_payed:\n",
    "    try:\n",
    "        print(\"checking example \" + ex)\n",
    "        if not sset(ex):\n",
    "            uncategorized.append(ex)\n",
    "            print(\"no synset exists; not comparable\")\n",
    "        else:\n",
    "            sim_vec1 = []\n",
    "            sim_vec2 = []  \n",
    "            for cat in categories:\n",
    "                print(\"entered cat\")\n",
    "                #val = sset(ex).path_similarity(sset(cat), simulate_root=False)\n",
    "                val2 = sset(ex).wup_similarity(sset(cat), simulate_root=False)\n",
    "                #sim_vec1.append(val)\n",
    "                sim_vec2.append(val2)\n",
    "            res = [0 if v is None else v for v in sim_vec2]\n",
    "            print(\"similarity vector:\" + \"\\n \" + str(res))\n",
    "            m = max(res)\n",
    "            if (m == 0):\n",
    "                print(\"could not classify\")\n",
    "                continue\n",
    "            i = res.index(m)\n",
    "            distribution[i] = distribution[i] + 1\n",
    "            costs[i] = costs[i] + amount\n",
    "            print(\"class: \"+ categories[i])\n",
    "    except Exception as e:\n",
    "        print(e)\n",
    "\n",
    "print(distribution)\n",
    "\n",
    "print(\"uncategorized\" + str(uncategorized))\n",
    "n_uncat = len(uncategorized)\n",
    "# distribution[len(distribution) - 1] = n_uncat\n",
    "\n",
    "fig, (ax1,ax2) = plt.subplots(2)\n",
    "\n",
    "\n",
    "p1 = ax2.bar(ind, menMeans, width, yerr=menStd, label='Men')\n",
    "\n",
    "ax2.axhline(0, color='grey', linewidth=0.8)\n",
    "ax2.set_ylabel('Money')\n",
    "ax2.set_title('Category')\n",
    "ax2.set_xticks(ind)\n",
    "\n",
    "# Label with label_type 'center' instead of the default 'edge'\n",
    "\n",
    "fig.suptitle('Expenses statistics')\n",
    "\n",
    "# Pie chart, where the slices will be ordered and plotted counter-clockwise:\n",
    "labels = categories\n",
    "sizes = distribution\n",
    "explode = (0, 0, 0, 0)  # only \"explode\" the 2nd slice (i.e. 'Hogs')\n",
    "\n",
    "ax1.pie(sizes, explode=explode, labels=labels, autopct='%1.1f%%',\n",
    "        shadow=False, startangle=90)\n",
    "ax1.axis('equal')  # Equal aspect ratio ensures that pie is drawn as a circle.\n",
    "\n"
   ]
  },
  {
   "cell_type": "code",
   "execution_count": 26,
   "metadata": {},
   "outputs": [
    {
     "data": {
      "text/plain": [
       "'Welt'"
      ]
     },
     "execution_count": 26,
     "metadata": {},
     "output_type": "execute_result"
    }
   ],
   "source": [
    "tr = translator.translate(\"Welt\",dest=\"en\")\n",
    "tr.text"
   ]
  },
  {
   "cell_type": "code",
   "execution_count": 5,
   "metadata": {},
   "outputs": [
    {
     "data": {
      "text/plain": [
       "0"
      ]
     },
     "execution_count": 5,
     "metadata": {},
     "output_type": "execute_result"
    }
   ],
   "source": [
    "str = \"0\"\n",
    "int(str)"
   ]
  },
  {
   "cell_type": "code",
   "execution_count": 6,
   "metadata": {},
   "outputs": [
    {
     "data": {
      "text/plain": [
       "'capsule_holder'"
      ]
     },
     "execution_count": 6,
     "metadata": {},
     "output_type": "execute_result"
    }
   ],
   "source": [
    "word = \"capsule holder\"\n",
    "word.replace(\" \",\"_\")"
   ]
  },
  {
   "cell_type": "code",
   "execution_count": null,
   "metadata": {},
   "outputs": [],
   "source": []
  }
 ],
 "metadata": {
  "interpreter": {
   "hash": "6883be5af015b34af4e9b77f74d62c413c3db16c98c0f6ed25342ab2361ea2ae"
  },
  "kernelspec": {
   "display_name": "Python 3",
   "language": "python",
   "name": "python3"
  },
  "language_info": {
   "codemirror_mode": {
    "name": "ipython",
    "version": 3
   },
   "file_extension": ".py",
   "mimetype": "text/x-python",
   "name": "python",
   "nbconvert_exporter": "python",
   "pygments_lexer": "ipython3",
   "version": "3.7.6"
  }
 },
 "nbformat": 4,
 "nbformat_minor": 4
}
